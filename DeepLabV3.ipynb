{
  "nbformat": 4,
  "nbformat_minor": 0,
  "metadata": {
    "colab": {
      "name": "DeepLabV3.ipynb",
      "version": "0.3.2",
      "provenance": [],
      "collapsed_sections": []
    },
    "kernelspec": {
      "name": "python3",
      "display_name": "Python 3"
    },
    "accelerator": "GPU"
  },
  "cells": [
    {
      "metadata": {
        "id": "ZQLIPzyTPKgN",
        "colab_type": "code",
        "colab": {}
      },
      "cell_type": "code",
      "source": [
        "import torch\n",
        "import torch.nn as nn\n",
        "import torch.nn.functional as F\n",
        "import numpy as np\n",
        "import matplotlib.pyplot as plt\n",
        "from torch.optim.lr_scheduler import StepLR\n",
        "import cv2\n",
        "import os\n",
        "from tqdm import tqdm\n",
        "from PIL import Image\n",
        "import torchvision.models as models"
      ],
      "execution_count": 0,
      "outputs": []
    },
    {
      "metadata": {
        "id": "rCzLD-hctcEY",
        "colab_type": "code",
        "colab": {}
      },
      "cell_type": "code",
      "source": [
        "!wget https://www.dropbox.com/s/pxcz2wdz04zxocq/CamVid.zip?dl=1 -O CamVid.zip\n",
        "!unzip CamVid.zip"
      ],
      "execution_count": 0,
      "outputs": []
    },
    {
      "metadata": {
        "id": "ZJW-Lx3eAEC8",
        "colab_type": "code",
        "colab": {}
      },
      "cell_type": "code",
      "source": [
        "class BNConv(nn.Module):\n",
        "    def __init__(self, in_channels, out_channels, kernel_size,\n",
        "                 padding, stride):\n",
        "        '''\n",
        "        The constructor for the BNConv Class\n",
        "        \n",
        "        Arguments:\n",
        "        - in_channels : The number of input channels to the first conv layer\n",
        "        - out_channels : # of output channels for the first conv layer\n",
        "        - kernel_size : the kernel size\n",
        "        - padding : the padding height and width\n",
        "        - stride : the stride length\n",
        "        '''\n",
        "        \n",
        "        super(BNConv,self).__init__()\n",
        "        \n",
        "        \n",
        "        self.in_channels = in_channels\n",
        "        self.out_channels = out_channels\n",
        "        self.kernel_size = kernel_size\n",
        "        self.padding = padding\n",
        "        self.stride = stride\n",
        "        \n",
        "        \n",
        "        self.conv = nn.Conv2d(in_channels=self.in_channels,\n",
        "                              out_channels=self.out_channels,\n",
        "                              kernel_size=self.kernel_size,\n",
        "                              padding=self.padding,\n",
        "                              stride=self.stride)\n",
        "        \n",
        "        self.bnorm = nn.BatchNorm2d(self.out_channels)\n",
        "        \n",
        "    def forward(self, x):\n",
        "        '''\n",
        "        The method which defines the forward pass of BNConv module\n",
        "        \n",
        "        Arguments:\n",
        "        - x : the input to the network\n",
        "        \n",
        "        Returns:\n",
        "        - the output of the network\n",
        "        '''\n",
        "        \n",
        "        x = self.conv(x)\n",
        "        x = self.bnorm(x)\n",
        "        \n",
        "        return x"
      ],
      "execution_count": 0,
      "outputs": []
    },
    {
      "metadata": {
        "id": "rJzg2O8o__wo",
        "colab_type": "code",
        "colab": {}
      },
      "cell_type": "code",
      "source": [
        "class ConvolutionalBlock(nn.Module):\n",
        "  def __init__(self, in_channels, oc_conv1, oc_conv2, oc_conv3):\n",
        "    '''\n",
        "    '''\n",
        "    \n",
        "    super(ConvolutionalBlock,self).__init__()\n",
        "    \n",
        "    self.conv1 = BNConv(in_channels=in_channels,\n",
        "                   out_channels=oc_conv1,\n",
        "                   kernel_size=1,\n",
        "                   padding=1,\n",
        "                   stride=1)\n",
        "    \n",
        "    self.conv2 = BNConv(in_channels=oc_conv1,\n",
        "                        out_channels=oc_conv2,\n",
        "                        kernel_size=3,\n",
        "                        padding=1,\n",
        "                        stride=2)\n",
        "    \n",
        "    self.conv3 = BNConv(in_channels=oc_conv2,\n",
        "                        out_channels=oc_conv3,\n",
        "                        kernel_size=1,\n",
        "                        padding=1,\n",
        "                        stride=1)\n",
        "    \n",
        "    self.convs = BNConv(in_channels=in_channels,\n",
        "                        out_channels=oc_conv3,\n",
        "                        kernel_size=3,\n",
        "                        padding=1,\n",
        "                        stride=2)\n",
        "      \n",
        "    self.relu = nn.ReLU()\n",
        "    \n",
        "  def forward(self, x):\n",
        "    '''\n",
        "    '''\n",
        "    \n",
        "    xm = self.relu(self.conv1(x))\n",
        "    xm = self.relu(self.conv2(xm))\n",
        "    xm = self.conv3(xm)\n",
        "    \n",
        "    xs = self.convs(x)\n",
        "    print(xs.shape, xm.shape)\n",
        "    x = xm + xs\n",
        "    x = self.relu(x)\n",
        "    \n",
        "    return x"
      ],
      "execution_count": 0,
      "outputs": []
    },
    {
      "metadata": {
        "id": "dAL879avRJ4A",
        "colab_type": "code",
        "colab": {}
      },
      "cell_type": "code",
      "source": [
        "z = np.random.uniform(-1, 1, size=(128, 128, 64, 64))\n",
        "z = torch.from_numpy(z).to('cuda')\n",
        "cm = ConvolutionalBlock(in_channels=128, oc_conv1=128, oc_conv2=128, oc_conv3=256)\n",
        "cm.to('cuda')\n",
        "out = cm(z)\n",
        "out.shape"
      ],
      "execution_count": 0,
      "outputs": []
    },
    {
      "metadata": {
        "id": "93JcJgQBAN33",
        "colab_type": "code",
        "colab": {}
      },
      "cell_type": "code",
      "source": [
        "class IdentityBlock(nn.Module):\n",
        "  \n",
        "  def __init__(self, ic_conv1, oc_conv1, oc_conv2, oc_conv3):\n",
        "    '''\n",
        "    '''\n",
        "    \n",
        "    super(IdentityBlock,self).__init__()\n",
        "    \n",
        "    self.conv1 = BNConv(in_channels=ic_conv1,\n",
        "                        out_channels=oc_conv1,\n",
        "                        kernel_size=1,\n",
        "                        padding=1,\n",
        "                        stride=1)\n",
        "    \n",
        "    self.conv2 = BNConv(in_channels=oc_conv1,\n",
        "                        out_channels=oc_conv2,\n",
        "                        kernel_size=3,\n",
        "                        padding=1,\n",
        "                        stride=1)\n",
        "    \n",
        "    self.conv3 = BNConv(in_channels=oc_conv2,\n",
        "                        out_channels=oc_conv3,\n",
        "                        kernel_size=1,\n",
        "                        padding=1,\n",
        "                        stride=1)\n",
        "    \n",
        "    self.relu = nn.ReLU()\n",
        "    \n",
        "  def forward(self, x):\n",
        "    '''\n",
        "    '''\n",
        "    \n",
        "    xm = self.relu(self.conv1(x))\n",
        "    xm = self.relu(self.conv2(xm))\n",
        "    xm = self.conv3(xm)\n",
        "    \n",
        "    x = x + xm\n",
        "    x = self.relu(x)\n",
        "    \n",
        "    return x"
      ],
      "execution_count": 0,
      "outputs": []
    },
    {
      "metadata": {
        "id": "p9F8C2v-APDq",
        "colab_type": "code",
        "colab": {}
      },
      "cell_type": "code",
      "source": [
        "class ResNetBlock(nn.Module):\n",
        "  \n",
        "  def __init__(self, in_channels, oc_conv1, oc_conv2, oc_conv3, num_layers):\n",
        "    '''\n",
        "    '''\n",
        "    super(ResNetBlock,self).__init__()\n",
        "    \n",
        "    self.convblock = ConvolutionalBlock(in_channels=in_channels,\n",
        "                                    oc_conv1=oc_conv1,\n",
        "                                    oc_conv2=oc_conv2,\n",
        "                                    oc_conv3=oc_conv3)\n",
        "    \n",
        "    self.idenblock = IdentityBlock(ic_conv1=in_channels,\n",
        "                                   oc_conv1=oc_conv1,\n",
        "                                   oc_conv2=oc_conv2,\n",
        "                                   oc_conv3=oc_conv3)\n",
        "    \n",
        "    self.layers = []\n",
        "    for _ in range(self.layers):\n",
        "      layers.append(IdentityBlock(ic_conv1=ic_conv1,\n",
        "                                  oc_conv2=oc_conv2,\n",
        "                                  oc_conv3=oc_conv3,\n",
        "                                  oc_conv4=oc_conv4))\n",
        "    \n",
        "  def forward(self, x):\n",
        "    '''\n",
        "    '''\n",
        "    \n",
        "    x = self.convblock(x)\n",
        "    \n",
        "    for _ in range(layers-1):\n",
        "      x = self.idenblock(x)\n",
        "      \n",
        "    return x"
      ],
      "execution_count": 0,
      "outputs": []
    },
    {
      "metadata": {
        "id": "BZB5EdUfXW2A",
        "colab_type": "code",
        "colab": {}
      },
      "cell_type": "code",
      "source": [
        "class ASSP(nn.Module):\n",
        "  def __init__(self,in_channels,out_channels = 256):\n",
        "    super(ASSP,self).__init__()\n",
        "    \n",
        "    self.bn = nn.BatchNorm2d(out_channels)\n",
        "    self.relu = nn.ReLU()\n",
        "    \n",
        "    self.conv1 = nn.Conv2d(in_channels = in_channels, \n",
        "                          out_channels = out_channels,\n",
        "                          kernel_size = 1,\n",
        "                          padding = 0,\n",
        "                          dilation=1)\n",
        "    \n",
        "    self.conv2 = nn.Conv2d(in_channels = in_channels, \n",
        "                          out_channels = out_channels,\n",
        "                          kernel_size = 3,\n",
        "                          padding = 6,\n",
        "                          dilation = 6)\n",
        "    \n",
        "    self.conv3 = nn.Conv2d(in_channels = in_channels, \n",
        "                          out_channels = out_channels,\n",
        "                          kernel_size = 3,\n",
        "                          padding = 12,\n",
        "                          dilation = 12)\n",
        "    \n",
        "    self.conv4 = nn.Conv2d(in_channels = in_channels, \n",
        "                          out_channels = out_channels,\n",
        "                          kernel_size = 3,\n",
        "                          padding = 18,\n",
        "                          dilation = 18)\n",
        "    \n",
        "    self.conv5 = nn.Conv2d(in_channels = in_channels, \n",
        "                          out_channels = out_channels,\n",
        "                          kernel_size = 1,\n",
        "                          padding = 0,\n",
        "                          dilation=1)\n",
        "    \n",
        "    self.convf = nn.Conv2d(in_channels = out_channels * 5, \n",
        "                          out_channels = out_channels,\n",
        "                          kernel_size = 1,\n",
        "                          padding = 0,\n",
        "                          dilation=1)\n",
        "    \n",
        "    self.adapool = nn.AdaptiveAvgPool2d((16, 16))\n",
        "   \n",
        "  \n",
        "  def forward(self,x):\n",
        "    \n",
        "    x1 = self.conv1(x)\n",
        "    x1 = self.bn(x1)\n",
        "    x1 = self.relu(x1)\n",
        "    \n",
        "    x2 = self.conv2(x)\n",
        "    x2 = self.bn(x2)\n",
        "    x2 = self.relu(x2)\n",
        "    \n",
        "    x3 = self.conv3(x)\n",
        "    x3 = self.bn(x3)\n",
        "    x3 = self.relu(x3)\n",
        "    \n",
        "    x4 = self.conv4(x)\n",
        "    x4 = self.bn(x4)\n",
        "    x4 = self.relu(x4)\n",
        "    \n",
        "    x5 = self.adapool(x)\n",
        "    x5 = self.conv5(x5)\n",
        "    x5 = self.bn(x5)\n",
        "    x5 = self.relu(x5)\n",
        "    \n",
        "    print (x1.shape, x2.shape, x3.shape, x4.shape, x5.shape)\n",
        "    x = torch.cat((x1,x2,x3,x4,x5), dim = 1) #channels first\n",
        "    x = self.convf(x)\n",
        "    x = self.bn(x)\n",
        "    x = self.relu(x)\n",
        "    \n",
        "    return x"
      ],
      "execution_count": 0,
      "outputs": []
    },
    {
      "metadata": {
        "id": "Ou2SKWnmGQF2",
        "colab_type": "code",
        "colab": {}
      },
      "cell_type": "code",
      "source": [
        "class ResNet_50 (nn.Module):\n",
        "  def __init__(self, in_channels = 3, conv1_out = 64):\n",
        "    super(ResNet_50,self).__init__()\n",
        "    \n",
        "    self.in_channels = in_channels\n",
        "    \n",
        "    self.conv1_out = conv1_out\n",
        "    \n",
        "    self.resnet_50 = models.resnet50(pretrained = True)\n",
        "    \n",
        "    self.conv1 = nn.Conv2d(in_channels = in_channels, out_channels = conv1_out, \n",
        "                           kernel_size=(7,7), stride = 2)\n",
        "    \n",
        "    self.maxpool = nn.MaxPool2d(kernel_size = 3, stride = 2)\n",
        "  \n",
        "  def forward(self,x):\n",
        "    x = self.conv1(x)\n",
        "    x = self.maxpool(x)\n",
        "    x = self.resnet_50.layer1(x)\n",
        "    x = self.resnet_50.layer2(x)\n",
        "    x = self.resnet_50.layer3(x)\n",
        "    \n",
        "    \n",
        "    return x"
      ],
      "execution_count": 0,
      "outputs": []
    },
    {
      "metadata": {
        "id": "4z9uNc6XESSw",
        "colab_type": "code",
        "colab": {}
      },
      "cell_type": "code",
      "source": [
        "class DeepLabv3(nn.Module):\n",
        "  def __init__(self):\n",
        "    super(DeepLabv3, self).__init__()\n",
        "    \n",
        "    \n",
        "    \n",
        "    self.resnet = ResNet_50()\n",
        "    \n",
        "    self.assp = ASSP(in_channels = 1024)\n",
        "    \n",
        "  def forward(self,x):\n",
        "    \n",
        "    x = self.resnet(x)\n",
        "    x = F.interpolate(self.assp(x), scale_factor = 16)\n",
        "    return x"
      ],
      "execution_count": 0,
      "outputs": []
    },
    {
      "metadata": {
        "id": "oFDk8_79Lt4i",
        "colab_type": "code",
        "outputId": "a3ac42b4-52ef-486f-db60-f64de991187e",
        "colab": {
          "base_uri": "https://localhost:8080/",
          "height": 52
        }
      },
      "cell_type": "code",
      "source": [
        "device = torch.device(\"cuda:0\" if torch.cuda.is_available() else \"cpu\")\n",
        "a = torch.rand(2,3,256,256).float()\n",
        "a = a.to(device)\n",
        "model = DeepLabv3()\n",
        "model.to(device)\n",
        "with torch.no_grad():\n",
        "  out = model(a)\n",
        "  \n",
        "out.shape"
      ],
      "execution_count": 0,
      "outputs": [
        {
          "output_type": "stream",
          "text": [
            "torch.Size([2, 256, 16, 16]) torch.Size([2, 256, 16, 16]) torch.Size([2, 256, 16, 16]) torch.Size([2, 256, 16, 16]) torch.Size([2, 256, 16, 16])\n"
          ],
          "name": "stdout"
        },
        {
          "output_type": "execute_result",
          "data": {
            "text/plain": [
              "torch.Size([2, 256, 256, 256])"
            ]
          },
          "metadata": {
            "tags": []
          },
          "execution_count": 96
        }
      ]
    },
    {
      "metadata": {
        "id": "79q09zhHtj7O",
        "colab_type": "code",
        "colab": {}
      },
      "cell_type": "code",
      "source": [
        "# Checking if there is any gpu available and pass the model to gpu or cpu\n",
        "device = torch.device('cuda:0' if torch.cuda.is_available() else 'cpu')\n",
        "enet = enet.to(device)"
      ],
      "execution_count": 0,
      "outputs": []
    },
    {
      "metadata": {
        "id": "eAaPS_hFtt7O",
        "colab_type": "code",
        "colab": {}
      },
      "cell_type": "code",
      "source": [
        "def loader(training_path, segmented_path, batch_size, h=320, w=1000):\n",
        "    filenames_t = os.listdir(training_path)\n",
        "    total_files_t = len(filenames_t)\n",
        "    \n",
        "    filenames_s = os.listdir(segmented_path)\n",
        "    total_files_s = len(filenames_s)\n",
        "    \n",
        "    assert(total_files_t == total_files_s)\n",
        "    \n",
        "    if str(batch_size).lower() == 'all':\n",
        "        batch_size = total_files_s\n",
        "    \n",
        "    idx = 0\n",
        "    while(1):\n",
        "      # Choosing random indexes of images and labels\n",
        "        batch_idxs = np.random.randint(0, total_files_s, batch_size)\n",
        "            \n",
        "        \n",
        "        inputs = []\n",
        "        labels = []\n",
        "        \n",
        "        for jj in batch_idxs:\n",
        "          # Reading normalized photo\n",
        "            img = plt.imread(training_path + filenames_t[jj])\n",
        "          # Resizing using nearest neighbor method\n",
        "            img = cv2.resize(img, (h, w), cv2.INTER_NEAREST)\n",
        "            inputs.append(img)\n",
        "          \n",
        "          # Reading semantic image\n",
        "            img = Image.open(segmented_path + filenames_s[jj])\n",
        "            img = np.array(img)\n",
        "          # Resizing using nearest neighbor method\n",
        "            img = cv2.resize(img, (h, w), cv2.INTER_NEAREST)\n",
        "            labels.append(img)\n",
        "         \n",
        "        inputs = np.stack(inputs, axis=2)\n",
        "      # Changing image format to C x H x W\n",
        "        inputs = torch.tensor(inputs).transpose(0, 2).transpose(1, 3)\n",
        "        \n",
        "        labels = torch.tensor(labels)\n",
        "        \n",
        "        yield inputs, labels"
      ],
      "execution_count": 0,
      "outputs": []
    },
    {
      "metadata": {
        "id": "KZRS4vEmEKDo",
        "colab_type": "code",
        "colab": {}
      },
      "cell_type": "code",
      "source": [
        "class SeparableConv2d(nn.Module):\n",
        "    def __init__(self,in_channels,out_channels,kernel_size=1,stride=1,padding=0,dilation=1,bias=False):\n",
        "        super(SeparableConv2d,self).__init__()\n",
        "\n",
        "        self.conv1 = nn.Conv2d(in_channels,in_channels,kernel_size,stride,padding,dilation,groups=in_channels,bias=bias)\n",
        "        self.pointwise = nn.Conv2d(in_channels,out_channels,1,1,0,1,1,bias=bias)\n",
        "    \n",
        "    def forward(self,x):\n",
        "        x = self.conv1(x)\n",
        "        x = self.pointwise(x)\n",
        "        return x\n",
        "\n",
        "\n",
        "class ConvBlock(nn.Module):\n",
        "  def __init__(self,in_channels,out_channels,side_branch = True):\n",
        "    super(ConvBlock,self).__init__()\n",
        "    \n",
        "    self.in_channels = in_channels\n",
        "    self.out_channels = out_channels\n",
        "    self.side_branch = side_branch\n",
        "    \n",
        "    self.relu = nn.ReLU()\n",
        "    \n",
        "    self.sep_conv1 = SeparableConv2d(in_channels = self.in_channels,\n",
        "                          out_channels = self.out_channels,\n",
        "                          kernel_size = 3,\n",
        "                          padding = 1)\n",
        "    self.sep_conv2 = SeparableConv2d(in_channels = self.out_channels,\n",
        "                          out_channels = self.out_channels,\n",
        "                          kernel_size = 3,\n",
        "                          padding = 1)\n",
        "    self.sep_conv3 = SeparableConv2d(in_channels = self.in_channels,\n",
        "                          out_channels = self.out_channels,\n",
        "                          kernel_size = 3,\n",
        "                          padding = 1,\n",
        "                          stride = 2)\n",
        "    self.conv4 = nn.Conv2d(in_channels = self.in_channels,\n",
        "                          out_channels = self.out_channels,\n",
        "                          kernel_size = 1,\n",
        "                          padding = 1,\n",
        "                          stride = 2)\n",
        "    self.batchnorm = nn.BatchNorm2d()\n",
        "      \n",
        "        \n",
        "  def forward(self,x):\n",
        "    main = self.sep_conv1(x)    \n",
        "    main = self.batchnorm(main)\n",
        "    main = self.relu(main)\n",
        "    main = self.sep_conv2(x)    \n",
        "    main = self.batchnorm(main)\n",
        "    main = self.relu(main)\n",
        "    main = self.sep_conv3(x)    \n",
        "    main = self.batchnorm(main)\n",
        "    main = self.relu(main)\n",
        "    \n",
        "    if side_branch:\n",
        "      side = F.relu(self.conv4(x))\n",
        "      \n",
        "    try:\n",
        "      return side + main\n",
        "    \n",
        "    except:\n",
        "      return x + main"
      ],
      "execution_count": 0,
      "outputs": []
    },
    {
      "metadata": {
        "id": "ZuM02rjbBqeq",
        "colab_type": "code",
        "outputId": "0dec1fc1-7667-4030-cd4c-23862ff9acc0",
        "colab": {
          "base_uri": "https://localhost:8080/",
          "height": 50
        }
      },
      "cell_type": "code",
      "source": [
        ""
      ],
      "execution_count": 0,
      "outputs": [
        {
          "output_type": "stream",
          "text": [
            "Downloading: \"https://download.pytorch.org/models/resnet50-19c8e357.pth\" to /root/.torch/models/resnet50-19c8e357.pth\n",
            "100%|██████████| 102502400/102502400 [00:01<00:00, 94440628.02it/s]\n"
          ],
          "name": "stderr"
        }
      ]
    },
    {
      "metadata": {
        "id": "koe6FLaMBv29",
        "colab_type": "code",
        "colab": {}
      },
      "cell_type": "code",
      "source": [
        "import torchvision.models as models\n",
        "device = torch.device(\"cuda:0\" if torch.cuda.is_available() else \"cpu\")\n",
        "\n",
        "mm = resnet_model.layer1.to(device)\n",
        "\n",
        "with torch.no_grad():\n",
        "  out = mm(a)"
      ],
      "execution_count": 0,
      "outputs": []
    },
    {
      "metadata": {
        "id": "S-SS4RVrRaO5",
        "colab_type": "code",
        "outputId": "7fe9432e-80ca-4ecb-f226-696468952c60",
        "colab": {
          "base_uri": "https://localhost:8080/",
          "height": 34
        }
      },
      "cell_type": "code",
      "source": [
        "a = torch.rand(2,3,256,256).to(device)  \n",
        "mmm = Res_50().to(device)\n",
        "with torch.no_grad():\n",
        "  out = mmm(a)\n",
        "out.shape"
      ],
      "execution_count": 0,
      "outputs": [
        {
          "output_type": "execute_result",
          "data": {
            "text/plain": [
              "torch.Size([2, 1024, 16, 16])"
            ]
          },
          "metadata": {
            "tags": []
          },
          "execution_count": 83
        }
      ]
    },
    {
      "metadata": {
        "id": "UCC_Rb1BRbtM",
        "colab_type": "code",
        "colab": {}
      },
      "cell_type": "code",
      "source": [
        ""
      ],
      "execution_count": 0,
      "outputs": []
    }
  ]
}