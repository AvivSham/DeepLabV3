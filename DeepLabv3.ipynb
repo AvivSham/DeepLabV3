{
  "nbformat": 4,
  "nbformat_minor": 0,
  "metadata": {
    "colab": {
      "name": "DeepLabv3.ipynb",
      "version": "0.3.2",
      "provenance": [],
      "collapsed_sections": []
    },
    "kernelspec": {
      "name": "python3",
      "display_name": "Python 3"
    },
    "accelerator": "GPU"
  },
  "cells": [
    {
      "metadata": {
        "id": "ZQLIPzyTPKgN",
        "colab_type": "code",
        "colab": {}
      },
      "cell_type": "code",
      "source": [
        "import torch\n",
        "import torch.nn as nn\n",
        "import torch.nn.functional as F\n",
        "import numpy as np\n",
        "import matplotlib.pyplot as plt\n",
        "from torch.optim.lr_scheduler import StepLR\n",
        "import cv2\n",
        "import os\n",
        "from tqdm import tqdm_notebook as tqdm\n",
        "from PIL import Image\n",
        "import torchvision.models as models\n",
        "import torch.optim as optim\n",
        "from google.colab import files\n",
        "from torch.optim.lr_scheduler import LambdaLR\n",
        "import glob\n",
        "import matplotlib.gridspec as gridspec\n",
        "\n",
        "device = torch.device(\"cuda:0\" if torch.cuda.is_available() else \"cpu\")"
      ],
      "execution_count": 0,
      "outputs": []
    },
    {
      "metadata": {
        "id": "csYPIfobof-x",
        "colab_type": "text"
      },
      "cell_type": "markdown",
      "source": [
        "## Get the dataset"
      ]
    },
    {
      "metadata": {
        "id": "5GlNMWwCokAt",
        "colab_type": "text"
      },
      "cell_type": "markdown",
      "source": [
        "PASCAL VOC 2012"
      ]
    },
    {
      "metadata": {
        "id": "FBfvzyZAPjzh",
        "colab_type": "code",
        "colab": {}
      },
      "cell_type": "code",
      "source": [
        "!wget http://host.robots.ox.ac.uk/pascal/VOC/voc2012/VOCtrainval_11-May-2012.tar -O VOCtrainval.tar\n",
        "!tar -xf VOCtrainval.tar"
      ],
      "execution_count": 0,
      "outputs": []
    },
    {
      "metadata": {
        "id": "1IRRMxbYomtu",
        "colab_type": "text"
      },
      "cell_type": "markdown",
      "source": [
        "CityScapes"
      ]
    },
    {
      "metadata": {
        "id": "pb4PpxlRqDaB",
        "colab_type": "code",
        "colab": {}
      },
      "cell_type": "code",
      "source": [
        "#!wget --keep-session-cookies --save-cookies=cookies.txt --post-data 'username=arunava.chakraborty&password=xxxxxxx&submit=Login' https://www.cityscapes-dataset.com/login/\n",
        "#!wget --load-cookies cookies.txt --content-disposition https://www.cityscapes-dataset.com/file-handling/?packageID=1\n",
        "#!wget --load-cookies cookies.txt --content-disposition https://www.cityscapes-dataset.com/file-handling/?packageID=3\n",
        "#!unzip -qq gtFine_trainvaltest.zip\n",
        "#!unzip -qq leftImg8bit_trainvaltest.zip"
      ],
      "execution_count": 0,
      "outputs": []
    },
    {
      "metadata": {
        "id": "460VvpfzpHsd",
        "colab_type": "text"
      },
      "cell_type": "markdown",
      "source": [
        "## DeepLabv3 Model"
      ]
    },
    {
      "metadata": {
        "id": "Ou2SKWnmGQF2",
        "colab_type": "code",
        "colab": {}
      },
      "cell_type": "code",
      "source": [
        "class ResNet_50 (nn.Module):\n",
        "  def __init__(self, in_channels = 3, conv1_out = 64):\n",
        "    super(ResNet_50,self).__init__()\n",
        "    \n",
        "    self.resnet_50 = models.resnet50(pretrained = True)\n",
        "    \n",
        "    self.relu = nn.ReLU(inplace=True)\n",
        "  \n",
        "  def forward(self,x):\n",
        "    x = self.relu(self.resnet_50.bn1(self.resnet_50.conv1(x)))\n",
        "    x = self.resnet_50.maxpool(x)\n",
        "    x = self.resnet_50.layer1(x)\n",
        "    x = self.resnet_50.layer2(x)\n",
        "    x = self.resnet_50.layer3(x)\n",
        "    \n",
        "    return x"
      ],
      "execution_count": 0,
      "outputs": []
    },
    {
      "metadata": {
        "id": "BZB5EdUfXW2A",
        "colab_type": "code",
        "colab": {}
      },
      "cell_type": "code",
      "source": [
        "class ASSP(nn.Module):\n",
        "  def __init__(self,in_channels,out_channels = 256):\n",
        "    super(ASSP,self).__init__()\n",
        "    \n",
        "    \n",
        "    self.relu = nn.ReLU(inplace=True)\n",
        "    \n",
        "    self.conv1 = nn.Conv2d(in_channels = in_channels, \n",
        "                          out_channels = out_channels,\n",
        "                          kernel_size = 1,\n",
        "                          padding = 0,\n",
        "                          dilation=1,\n",
        "                          bias=False)\n",
        "    \n",
        "    self.bn1 = nn.BatchNorm2d(out_channels)\n",
        "    \n",
        "    self.conv2 = nn.Conv2d(in_channels = in_channels, \n",
        "                          out_channels = out_channels,\n",
        "                          kernel_size = 3,\n",
        "                          stride=1,\n",
        "                          padding = 6,\n",
        "                          dilation = 6,\n",
        "                          bias=False)\n",
        "    \n",
        "    self.bn2 = nn.BatchNorm2d(out_channels)\n",
        "    \n",
        "    self.conv3 = nn.Conv2d(in_channels = in_channels, \n",
        "                          out_channels = out_channels,\n",
        "                          kernel_size = 3,\n",
        "                          stride=1,\n",
        "                          padding = 12,\n",
        "                          dilation = 12,\n",
        "                          bias=False)\n",
        "    \n",
        "    self.bn3 = nn.BatchNorm2d(out_channels)\n",
        "    \n",
        "    self.conv4 = nn.Conv2d(in_channels = in_channels, \n",
        "                          out_channels = out_channels,\n",
        "                          kernel_size = 3,\n",
        "                          stride=1,\n",
        "                          padding = 18,\n",
        "                          dilation = 18,\n",
        "                          bias=False)\n",
        "    \n",
        "    self.bn4 = nn.BatchNorm2d(out_channels)\n",
        "    \n",
        "    self.conv5 = nn.Conv2d(in_channels = in_channels, \n",
        "                          out_channels = out_channels,\n",
        "                          kernel_size = 1,\n",
        "                          stride=1,\n",
        "                          padding = 0,\n",
        "                          dilation=1,\n",
        "                          bias=False)\n",
        "    \n",
        "    self.bn5 = nn.BatchNorm2d(out_channels)\n",
        "    \n",
        "    self.convf = nn.Conv2d(in_channels = out_channels * 5, \n",
        "                          out_channels = out_channels,\n",
        "                          kernel_size = 1,\n",
        "                          stride=1,\n",
        "                          padding = 0,\n",
        "                          dilation=1,\n",
        "                          bias=False)\n",
        "    \n",
        "    self.bnf = nn.BatchNorm2d(out_channels)\n",
        "    \n",
        "    self.adapool = nn.AdaptiveAvgPool2d(1)  \n",
        "   \n",
        "  \n",
        "  def forward(self,x):\n",
        "    \n",
        "    x1 = self.conv1(x)\n",
        "    x1 = self.bn1(x1)\n",
        "    x1 = self.relu(x1)\n",
        "    \n",
        "    x2 = self.conv2(x)\n",
        "    x2 = self.bn2(x2)\n",
        "    x2 = self.relu(x2)\n",
        "    \n",
        "    x3 = self.conv3(x)\n",
        "    x3 = self.bn3(x3)\n",
        "    x3 = self.relu(x3)\n",
        "    \n",
        "    x4 = self.conv4(x)\n",
        "    x4 = self.bn4(x4)\n",
        "    x4 = self.relu(x4)\n",
        "    \n",
        "    x5 = self.adapool(x)\n",
        "    x5 = self.conv5(x5)\n",
        "    x5 = self.bn5(x5)\n",
        "    x5 = self.relu(x5)\n",
        "    x5 = F.interpolate(x5, size = tuple(x4.shape[-2:]), mode='bilinear')\n",
        "    \n",
        "    #print (x1.shape, x2.shape, x3.shape, x4.shape, x5.shape)\n",
        "    x = torch.cat((x1,x2,x3,x4,x5), dim = 1) #channels first\n",
        "    x = self.convf(x)\n",
        "    x = self.bnf(x)\n",
        "    x = self.relu(x)\n",
        "    \n",
        "    return x"
      ],
      "execution_count": 0,
      "outputs": []
    },
    {
      "metadata": {
        "id": "4z9uNc6XESSw",
        "colab_type": "code",
        "colab": {}
      },
      "cell_type": "code",
      "source": [
        "class DeepLabv3(nn.Module):\n",
        "  \n",
        "  def __init__(self, nc):\n",
        "    \n",
        "    super(DeepLabv3, self).__init__()\n",
        "    \n",
        "    self.nc = nc\n",
        "    \n",
        "    self.resnet = ResNet_50()\n",
        "    \n",
        "    self.assp = ASSP(in_channels = 1024)\n",
        "    \n",
        "    self.conv = nn.Conv2d(in_channels = 256, out_channels = self.nc,\n",
        "                          kernel_size = 1, stride=1, padding=0)\n",
        "        \n",
        "  def forward(self,x):\n",
        "    _, _, h, w = x.shape\n",
        "    x = self.resnet(x)\n",
        "    x = self.assp(x)\n",
        "    x = self.conv(x)\n",
        "    x = F.interpolate(x, size=(h, w), mode='bilinear') #scale_factor = 16, mode='bilinear')\n",
        "    return x"
      ],
      "execution_count": 0,
      "outputs": []
    },
    {
      "metadata": {
        "id": "qQ7FAsRFpM2Y",
        "colab_type": "text"
      },
      "cell_type": "markdown",
      "source": [
        "## Define the loader"
      ]
    },
    {
      "metadata": {
        "id": "9WNJR62XPxOv",
        "colab_type": "code",
        "colab": {}
      },
      "cell_type": "code",
      "source": [
        "def loader(input_path, segmented_path, batch_size, h=1024, w=2048):\n",
        "    \"\"\"\n",
        "    Creating data loader for the training\n",
        "    \n",
        "    Args:\n",
        "    \n",
        "    input_path - path to images folder\n",
        "    segmented_path - path to labels (segmented images)\n",
        "    batch_size - amount of images in each mini batch\n",
        "    h - image height\n",
        "    w - image weight\n",
        "    \n",
        "    \"\"\"    \n",
        "    filenames = os.listdir(segmented_path)\n",
        "    total_files = len(filenames)\n",
        "    \n",
        "    inp_files = list(map(lambda x : x.split('.')[0] + '.jpg', filenames))\n",
        "    \n",
        "    if str(batch_size).lower() == 'all':\n",
        "        batch_size = total_files\n",
        "    \n",
        "    idx = 0\n",
        "    while(1):\n",
        "      # Choosing random indexes of images and labels\n",
        "        batch_idxs = np.random.randint(0, total_files, batch_size)\n",
        "        \n",
        "        inputs = []\n",
        "        labels = []\n",
        "        \n",
        "        for jj in batch_idxs:\n",
        "            # Reading normalized photo\n",
        "            img = np.array(Image.open(input_path + inp_files[jj]))\n",
        "            # Resizing using nearest neighbor method\n",
        "            img = cv2.resize(img, (w, h), cv2.INTER_NEAREST)\n",
        "            inputs.append(img)\n",
        "          \n",
        "            # Reading semantic image\n",
        "            img = Image.open(segmented_path + filenames[jj])\n",
        "            img = np.array(img)\n",
        "            idx255 = img == np.ones_like(img) * 255\n",
        "            img[idx255] = 0\n",
        "            # Resizing using nearest neighbor method\n",
        "            img = cv2.resize(img, (w, h), cv2.INTER_NEAREST)\n",
        "            labels.append(img)\n",
        "         \n",
        "        inputs = np.stack(inputs, axis=2)\n",
        "        # Changing image format to C x H x W\n",
        "        inputs = torch.tensor(inputs).transpose(0, 2).transpose(1, 3)\n",
        "        \n",
        "        labels = torch.tensor(labels)\n",
        "        \n",
        "        yield inputs, labels"
      ],
      "execution_count": 0,
      "outputs": []
    },
    {
      "metadata": {
        "id": "GmA0XtbRpQj-",
        "colab_type": "text"
      },
      "cell_type": "markdown",
      "source": [
        "## Define the Global Variables and helper functions"
      ]
    },
    {
      "metadata": {
        "id": "GOyXKhn9Arlc",
        "colab_type": "code",
        "colab": {}
      },
      "cell_type": "code",
      "source": [
        "# Defining Global variables used for training\n",
        "###############################\n",
        "\n",
        "training_path = '/content/VOCdevkit/VOC2012/JPEGImages/'\n",
        "segmented_path = '/content/VOCdevkit/VOC2012/SegmentationClass/'\n",
        "eval_path = '/content/VOCdevkit/VOC2012/JPEGImages/'\n",
        "train_samples = len(os.listdir(segmented_path))\n",
        "eval_samples = len(os.listdir(segmented_path))\n",
        "nc = 21\n",
        "H = 360\n",
        "W = 500\n",
        "batch_size = 16\n",
        "\n",
        "lr = 0.001\n",
        "epochs = 10\n",
        "save_every = 1\n",
        "print_every = 1\n",
        "eval_every = 1"
      ],
      "execution_count": 0,
      "outputs": []
    },
    {
      "metadata": {
        "id": "ZY1IpQ_00ATl",
        "colab_type": "code",
        "colab": {}
      },
      "cell_type": "code",
      "source": [
        "def get_class_weights(loader, num_classes, c=1.02):\n",
        "    '''\n",
        "    This class return the class weights for each class\n",
        "    \n",
        "    Arguments:\n",
        "    - loader : The generator object which return all the labels at one iteration\n",
        "               Do Note: That this class expects all the labels to be returned in\n",
        "               one iteration\n",
        "    - num_classes : The number of classes\n",
        "    Return:\n",
        "    - class_weights : An array equal in length to the number of classes\n",
        "                      containing the class weights for each class\n",
        "    '''\n",
        "\n",
        "    _, labels = next(loader)\n",
        "    all_labels = labels.flatten()\n",
        "    each_class = np.bincount(all_labels, minlength=num_classes)\n",
        "    prospensity_score = each_class / len(all_labels)\n",
        "    class_weights = 1 / (np.log(c + prospensity_score))\n",
        "    return class_weights"
      ],
      "execution_count": 0,
      "outputs": []
    },
    {
      "metadata": {
        "id": "T9FdR1Vuebc2",
        "colab_type": "code",
        "colab": {}
      },
      "cell_type": "code",
      "source": [
        "def show_pascal(model, path, fname, ext='.jpg'):\n",
        "  tmg_ = np.array(Image.open(path + fname.split('.')[0] + ext))\n",
        "  tmg_ = cv2.resize(tmg_, (W, H), cv2.INTER_NEAREST)\n",
        "  tmg = torch.tensor(tmg_).unsqueeze(0).float()\n",
        "  tmg = tmg.transpose(2, 3).transpose(1, 2).to(device)\n",
        "  model.eval()\n",
        "  with torch.no_grad():\n",
        "      out1 = model(tmg.float()).squeeze(0)\n",
        "  model.train()\n",
        "  \n",
        "  b_ = out1.data.max(0)[1].cpu().numpy()\n",
        "  \n",
        "  out2 = out1.cpu().detach().numpy()\n",
        "  \n",
        "  plt.title('Input Image')\n",
        "  plt.axis('off')\n",
        "  plt.imshow(tmg_)\n",
        "  \n",
        "  plt.figure(figsize=(10, 10))\n",
        "  #fig, ax = plt.subplots(nrows=5, ncols=4)\n",
        "  gs = gridspec.GridSpec(5, 4)\n",
        "  gs.update(wspace=0.025, hspace=0.0)\n",
        "  \n",
        "  label = 0\n",
        "  for ii in range(20):\n",
        "    plt.subplot(gs[ii])\n",
        "    plt.axis('off')\n",
        "    plt.imshow(out2[label, :, :])\n",
        "    label += 1\n",
        "  plt.show()"
      ],
      "execution_count": 0,
      "outputs": []
    },
    {
      "metadata": {
        "id": "OtHXh5u8z4_i",
        "colab_type": "code",
        "colab": {}
      },
      "cell_type": "code",
      "source": [
        "###############################\n",
        "# Create here two loaders\n",
        "\n",
        "pipe = loader(training_path, segmented_path, batch_size, h = H, w = W)\n",
        "#eval_pipe = loader(eval_path, segmented_eval_path, batch_size, h = H, w = W)"
      ],
      "execution_count": 0,
      "outputs": []
    },
    {
      "metadata": {
        "id": "CNKUW9zuzwzb",
        "colab_type": "code",
        "outputId": "8a01c49c-dcdb-4cf7-8218-28c01bce3e04",
        "colab": {
          "base_uri": "https://localhost:8080/",
          "height": 50
        }
      },
      "cell_type": "code",
      "source": [
        "###############################\n",
        "\n",
        "model = DeepLabv3(nc).to(device)\n",
        "#model = DeepLabV3(nc).to(device)"
      ],
      "execution_count": 0,
      "outputs": [
        {
          "output_type": "stream",
          "text": [
            "Downloading: \"https://download.pytorch.org/models/resnet50-19c8e357.pth\" to /root/.torch/models/resnet50-19c8e357.pth\n",
            "102502400it [00:01, 92771258.75it/s]\n"
          ],
          "name": "stderr"
        }
      ]
    },
    {
      "metadata": {
        "id": "RtqDvaIxAw0q",
        "colab_type": "code",
        "colab": {}
      },
      "cell_type": "code",
      "source": [
        "class_weights = get_class_weights(pipe, nc)\n",
        "criterion = nn.CrossEntropyLoss(weight = torch.FloatTensor(class_weights).to(device), ignore_index=255)"
      ],
      "execution_count": 0,
      "outputs": []
    },
    {
      "metadata": {
        "id": "_wubuwsGA31g",
        "colab_type": "code",
        "colab": {}
      },
      "cell_type": "code",
      "source": [
        "# Define Optimizer\n",
        "optimizer = optim.Adam(model.parameters(), lr=0.0001, weight_decay=0.0001)"
      ],
      "execution_count": 0,
      "outputs": []
    },
    {
      "metadata": {
        "id": "_lgtYlcuy9RD",
        "colab_type": "code",
        "colab": {}
      },
      "cell_type": "code",
      "source": [
        "# Loading model and optimizer\n",
        "\n",
        "model.load_state_dict(ckpt['model_state_dict'])\n",
        "optimizer.load_state_dict(ckpt['opt_state_dict'])"
      ],
      "execution_count": 0,
      "outputs": []
    },
    {
      "metadata": {
        "id": "pHEcm3Fvyasy",
        "colab_type": "code",
        "colab": {}
      },
      "cell_type": "code",
      "source": [
        "epochs = 5"
      ],
      "execution_count": 0,
      "outputs": []
    },
    {
      "metadata": {
        "id": "KGRVItBp3qvS",
        "colab_type": "code",
        "colab": {}
      },
      "cell_type": "code",
      "source": [
        "# Define learning rate scheduler\n",
        "\n",
        "scheduler = optim.lr_scheduler.LambdaLR(optimizer, lambda epoch: (1 - (epoch / epochs)) ** 0.9)"
      ],
      "execution_count": 0,
      "outputs": []
    },
    {
      "metadata": {
        "id": "XcXgsj6RAp_o",
        "colab_type": "code",
        "colab": {}
      },
      "cell_type": "code",
      "source": [
        "all_tests = os.listdir(segmented_path)"
      ],
      "execution_count": 0,
      "outputs": []
    },
    {
      "metadata": {
        "colab_type": "code",
        "id": "60Pa8xxSP3FL",
        "colab": {}
      },
      "cell_type": "code",
      "source": [
        "# Training loop\n",
        "\n",
        "epochs = 50\n",
        "\n",
        "train_losses = [] # holds the running train loss\n",
        "eval_losses = []  # holds the running validation loss \n",
        "\n",
        "# Calculate the number of mini batches\n",
        "bc_train = train_samples // batch_size\n",
        "bc_eval = eval_samples // batch_size\n",
        "\n",
        "for e in range(1, epochs+1):\n",
        "\n",
        "    train_loss = 0\n",
        "    print ('-'*15,'Epoch %d' % e, '-'*15)\n",
        "    \n",
        "    scheduler.step()\n",
        "    \n",
        "    model.train()\n",
        "\n",
        "    for _ in tqdm(range(bc_train)):\n",
        "      \n",
        "        # generate batch\n",
        "        X_batch, mask_batch = next(pipe)\n",
        "        \n",
        "        # assign to GPU/CPU\n",
        "        X_batch, mask_batch = X_batch.to(device), mask_batch.to(device)\n",
        "\n",
        "        optimizer.zero_grad()\n",
        "\n",
        "        out = model(X_batch.float())\n",
        "        \n",
        "        loss = criterion(out, mask_batch.long())\n",
        "        loss.backward()\n",
        "        optimizer.step()\n",
        "\n",
        "        train_loss += loss.item()\n",
        "\n",
        "\n",
        "    print ()\n",
        "    train_losses.append(train_loss)\n",
        "\n",
        "    if (e+1) % print_every == 0:\n",
        "        print ('Epoch {}/{}...'.format(e, epochs),\n",
        "                'Loss {:6f}'.format(train_loss))\n",
        "    '''\n",
        "    if e % eval_every == 0:\n",
        "        with torch.no_grad():\n",
        "            model.eval()\n",
        "\n",
        "            eval_loss = 0\n",
        "\n",
        "            for _ in tqdm(range(bc_eval)):\n",
        "                inputs, labels = next(eval_pipe)\n",
        "\n",
        "                inputs, labels = inputs.to(device), labels.to(device)\n",
        "                out = model(inputs.float())\n",
        "\n",
        "                loss = criterion(out, labels.long())\n",
        "\n",
        "                eval_loss += loss.item()\n",
        "\n",
        "            print ()\n",
        "            print ('Loss {:6f}'.format(eval_loss))\n",
        "\n",
        "            eval_losses.append(eval_loss)\n",
        "    \n",
        "    scheduler.step(eval_loss)\n",
        "    '''\n",
        "    \n",
        "    if e % save_every == 0:\n",
        "        checkpoint = {\n",
        "            'epochs' : e,\n",
        "            'state_dict' : model.state_dict()\n",
        "        }\n",
        "        torch.save(checkpoint, './ckpt-enet-{}-{:2f}.pth'.format(e, train_loss))\n",
        "        print ('Model saved!')\n",
        "    \n",
        "    show_pascal(model, training_path, all_tests[np.random.randint(0, len(all_tests))])"
      ],
      "execution_count": 0,
      "outputs": []
    },
    {
      "metadata": {
        "id": "zAWVFoKoqjkJ",
        "colab_type": "text"
      },
      "cell_type": "markdown",
      "source": [
        "## Save the model or images to drive"
      ]
    },
    {
      "metadata": {
        "colab_type": "code",
        "id": "2qdi3Yoypod1",
        "colab": {}
      },
      "cell_type": "code",
      "source": [
        "auth.authenticate_user()"
      ],
      "execution_count": 0,
      "outputs": []
    },
    {
      "metadata": {
        "colab_type": "code",
        "id": "p0K2mQadpnrP",
        "colab": {}
      },
      "cell_type": "code",
      "source": [
        "from googleapiclient.discovery import build\n",
        "\n",
        "drive_service = build('drive', 'v3')\n",
        "\n",
        "def save_to_drive(fcname, fname):\n",
        "    file_metadata = {\n",
        "        'name' : '{}'.format(fname)\n",
        "    }\n",
        "\n",
        "    media = MediaFileUpload('/content/{}'.format(fcname), resumable=True)\n",
        "    \n",
        "    created = drive_service.files().create(body=file_metadata,\n",
        "                                           media_body=media,\n",
        "                                           fields='id').execute()\n",
        "    \n",
        "    print ('[INFO] File created with id = {}'.format(created['id']))"
      ],
      "execution_count": 0,
      "outputs": []
    },
    {
      "metadata": {
        "id": "PAS8nfFuqpuw",
        "colab_type": "code",
        "colab": {}
      },
      "cell_type": "code",
      "source": [
        "colab_file_name = ''\n",
        "drive_file_name = ''\n",
        "save_to_drive(colab_file_name, drive_file_name)"
      ],
      "execution_count": 0,
      "outputs": []
    }
  ]
}
